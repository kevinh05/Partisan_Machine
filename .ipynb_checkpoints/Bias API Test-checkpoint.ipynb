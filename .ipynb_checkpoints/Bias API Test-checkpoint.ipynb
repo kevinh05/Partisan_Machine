{
 "cells": [
  {
   "cell_type": "code",
   "execution_count": 2,
   "id": "7c2d8bcd",
   "metadata": {},
   "outputs": [],
   "source": [
    "from newspaper import Article"
   ]
  },
  {
   "cell_type": "code",
   "execution_count": 3,
   "id": "bbbbb9eb",
   "metadata": {},
   "outputs": [],
   "source": [
    "url = 'https://www.foxnews.com/politics/biden-admin-aims-push-towns-cities-adopt-green-energy-building-codes'\n",
    "article = Article(url)\n",
    "article.download()\n",
    "\n",
    "article.parse()"
   ]
  },
  {
   "cell_type": "code",
   "execution_count": 5,
   "id": "6c2f2d3e",
   "metadata": {},
   "outputs": [
    {
     "name": "stdout",
     "output_type": "stream",
     "text": [
      "Biden admin aims to push towns, cities to adopt green energy building codes: 'Very suspicious'\n",
      " The Biden administration announced hundreds of millions of dollars in federal funding to upgrade energy codes nationwide that conform with strict energy efficiency standards, a move experts said is tantamount to a backdoor natural gas ban.\n",
      "\n",
      "The Department of Energy (DOE) said it will begin accepting applications for a total of $530 million in technical assistance competitive grants for local residential and commercial building code upgrades as part of its implementation of the Inflation Reduction Act (IRA).\n",
      "\n",
      "According to DOE, adoption of the latest model energy codes, zero energy codes and building performance standards would lead to widespread emissions reductions.\n",
      "\n",
      "\"Shaping a clean energy future for cities and neighborhoods requires a whole system approach that includes modernizing the building stock to use less energy and be more resilient in the face of increasing natural disasters,\" Energy Secretary Jennifer Granholm said in a statement.\n",
      "\n",
      "BIDEN INVOKES WARTIME POWERS TO FUND ELECTRIC HEATERS AS HE CRACKS DOWN ON GAS APPLIANCES\n",
      "\n",
      "\"Thanks to President Biden’s Investing in America agenda, we’re supporting states and local governments as they adopt and implement proven solutions that will save consumers money, reduce climate pollution and build a place-based workforce of well-paid, in-demand jobs for local community members,\" she continued.\n",
      "\n",
      "Overall, the IRA earmarks $1 billion to the DOE for awarding grants to local jurisdictions to adopt the most recent energy codes, the 2021 International Energy Conservation Codes (IECC) developed by the International Code Council. In September, DOE opened applications for another $400 million for building code upgrades under the IRA.\n",
      "\n",
      "The IECC, which is slated to be updated again in 2024, includes various standards guaranteeing a high level of energy efficiency in new building construction. According to the National Association of Home Builders, though, the 2021 IECC could make a new home as much as $31,000 more expensive because of the technological upgrades.\n",
      "\n",
      "EXPERTS WARN BIDEN ADMIN'S WATER HEATER CRACKDOWN WILL HIKE PRICES, REDUCE CONSUMER CHOICE\n",
      "\n",
      "And experts said the federal push to incentivize more efficient energy codes nationwide could lead to policies banning new buildings from having natural gas hookups and require them to be \"all-electric.\"\n",
      "\n",
      "\"It's a lot of money, and it's clearly designed to push the Biden administration's climate agenda onto state and local governments,\" Ben Lieberman, a senior fellow at the Competitive Enterprise Institute, told Fox News Digital in an interview. \"It's being done through a number of carrots and sticks — carrots in the form of grants to standard-setting bodies and state and local governments if they go along with the climate agenda.\n",
      "\n",
      "\"A big part of this is the war on natural gas,\" Lieberman continued. \"These building codes, that's where you see these bans on natural gas hookups for new construction. You could also see other things like increasing the safety requirements for natural gas, not out of any legitimate concern over the safety of natural gas, but just trying to make things more expensive and more difficult for natural gas.\"\n",
      "\n",
      "MAJOR 'CLIMATE DECEPTION' LAWSUIT AGAINST BIG OIL VOLUNTARILY DISMISSED\n",
      "\n",
      "Environmentalists have for years zeroed in on the U.S. buildings sector as part of their efforts to curb emissions and combat global warming. Buildings account for roughly 30% of total U.S. greenhouse gas emissions including electricity generation, and 13% of emissions excluding electricity, according to the Environmental Protection Agency.\n",
      "\n",
      "Several Democratic-led cities, including Los Angeles, San Diego, San Francisco, Seattle and New York City — collectively home to more than 10 million Americans — have also already enacted varying restrictions on natural gas hookups in recent years.\n",
      "\n",
      "\"These local code updates are typically outside the public's view because they're so obscure and no one pays attention to them,\" Diana Furchtgott-Roth, the director of the Heritage Foundation's Center for Energy, Climate, and Environment, told Fox News Digital in an interview. \"But that's where a lot of the incentives for natural gas bans and electrification mandates are happening. This is over $500 million flowing to those localities for the express purpose of changing codes to effectively ban gas.\n",
      "\n",
      "\"It's going to be more expensive for consumers in the long run. The answer is to have energy and appliances on a level playing field and to let people choose what they want,\" she said. \"They're perfectly capable of making those choices, and it's very suspicious when the government is trying to incentivize them to do one thing or another.\"\n",
      "\n",
      "CLICK HERE TO GET THE FOX NEWS APP\n",
      "\n",
      "In addition to the Biden administration's efforts to push new, more energy-efficient building codes nationwide, it has also issued a wide range of new regulations targeting gas-powered home appliances. For example, it has taken aim at gas water heaters, stoves and furnaces, which critics say will only lead to higher prices for consumers.\n"
     ]
    }
   ],
   "source": [
    "\n",
    "\n",
    "\n",
    "cont = article.title + \"\\n \" + article.text\n",
    "\n",
    "print(cont)\n"
   ]
  },
  {
   "cell_type": "code",
   "execution_count": 6,
   "id": "3c77868d",
   "metadata": {},
   "outputs": [
    {
     "name": "stdout",
     "output_type": "stream",
     "text": [
      "[['index: 0'\n",
      "  \"Biden admin aims to push towns, cities to adopt green energy building codes: 'Very suspicious'\"]\n",
      " ['index: 1'\n",
      "  ' The Biden administration announced hundreds of millions of dollars in federal funding to upgrade energy codes nationwide that conform with strict energy efficiency standards, a move experts said is tantamount to a backdoor natural gas ban.']\n",
      " ['index: 2'\n",
      "  'The Department of Energy (DOE) said it will begin accepting applications for a total of $530 million in technical assistance competitive grants for local residential and commercial building code upgrades as part of its implementation of the Inflation Reduction Act (IRA).']\n",
      " ['index: 3'\n",
      "  'According to DOE, adoption of the latest model energy codes, zero energy codes and building performance standards would lead to widespread emissions reductions.']\n",
      " ['index: 4'\n",
      "  '\"Shaping a clean energy future for cities and neighborhoods requires a whole system approach that includes modernizing the building stock to use less energy and be more resilient in the face of increasing natural disasters,\" Energy Secretary Jennifer Granholm said in a statement.']\n",
      " ['index: 5'\n",
      "  'BIDEN INVOKES WARTIME POWERS TO FUND ELECTRIC HEATERS AS HE CRACKS DOWN ON GAS APPLIANCES']\n",
      " ['index: 6'\n",
      "  '\"Thanks to President Biden’s Investing in America agenda, we’re supporting states and local governments as they adopt and implement proven solutions that will save consumers money, reduce climate pollution and build a place-based workforce of well-paid, in-demand jobs for local community members,\" she continued.']\n",
      " ['index: 7'\n",
      "  'Overall, the IRA earmarks $1 billion to the DOE for awarding grants to local jurisdictions to adopt the most recent energy codes, the 2021 International Energy Conservation Codes (IECC) developed by the International Code Council.']\n",
      " ['index: 8'\n",
      "  'In September, DOE opened applications for another $400 million for building code upgrades under the IRA.']\n",
      " ['index: 9'\n",
      "  'The IECC, which is slated to be updated again in 2024, includes various standards guaranteeing a high level of energy efficiency in new building construction.']\n",
      " ['index: 10'\n",
      "  'According to the National Association of Home Builders, though, the 2021 IECC could make a new home as much as $31,000 more expensive because of the technological upgrades.']\n",
      " ['index: 11'\n",
      "  \"EXPERTS WARN BIDEN ADMIN'S WATER HEATER CRACKDOWN WILL HIKE PRICES, REDUCE CONSUMER CHOICE\"]\n",
      " ['index: 12'\n",
      "  'And experts said the federal push to incentivize more efficient energy codes nationwide could lead to policies banning new buildings from having natural gas hookups and require them to be \"all-electric.\"']\n",
      " ['index: 13'\n",
      "  '\"It\\'s a lot of money, and it\\'s clearly designed to push the Biden administration\\'s climate agenda onto state and local governments,\" Ben Lieberman, a senior fellow at the Competitive Enterprise Institute, told Fox News Digital in an interview.']\n",
      " ['index: 14'\n",
      "  '\"It\\'s being done through a number of carrots and sticks — carrots in the form of grants to standard-setting bodies and state and local governments if they go along with the climate agenda.']\n",
      " ['index: 15'\n",
      "  '\"A big part of this is the war on natural gas,\" Lieberman continued.']\n",
      " ['index: 16'\n",
      "  '\"These building codes, that\\'s where you see these bans on natural gas hookups for new construction.']\n",
      " ['index: 17'\n",
      "  'You could also see other things like increasing the safety requirements for natural gas, not out of any legitimate concern over the safety of natural gas, but just trying to make things more expensive and more difficult for natural gas.\"']\n",
      " ['index: 18'\n",
      "  \"MAJOR 'CLIMATE DECEPTION' LAWSUIT AGAINST BIG OIL VOLUNTARILY DISMISSED\"]\n",
      " ['index: 19'\n",
      "  'Environmentalists have for years zeroed in on the U.S. buildings sector as part of their efforts to curb emissions and combat global warming.']\n",
      " ['index: 20'\n",
      "  'Buildings account for roughly 30% of total U.S. greenhouse gas emissions including electricity generation, and 13% of emissions excluding electricity, according to the Environmental Protection Agency.']\n",
      " ['index: 21'\n",
      "  'Several Democratic-led cities, including Los Angeles, San Diego, San Francisco, Seattle and New York City — collectively home to more than 10 million Americans — have also already enacted varying restrictions on natural gas hookups in recent years.']\n",
      " ['index: 22'\n",
      "  '\"These local code updates are typically outside the public\\'s view because they\\'re so obscure and no one pays attention to them,\" Diana Furchtgott-Roth, the director of the Heritage Foundation\\'s Center for Energy, Climate, and Environment, told Fox News Digital in an interview.']\n",
      " ['index: 23'\n",
      "  '\"But that\\'s where a lot of the incentives for natural gas bans and electrification mandates are happening.']\n",
      " ['index: 24'\n",
      "  'This is over $500 million flowing to those localities for the express purpose of changing codes to effectively ban gas.']\n",
      " ['index: 25'\n",
      "  '\"It\\'s going to be more expensive for consumers in the long run.']\n",
      " ['index: 26'\n",
      "  'The answer is to have energy and appliances on a level playing field and to let people choose what they want,\" she said.']\n",
      " ['index: 27'\n",
      "  '\"They\\'re perfectly capable of making those choices, and it\\'s very suspicious when the government is trying to incentivize them to do one thing or another.\"']\n",
      " ['index: 28' 'CLICK HERE TO GET THE FOX NEWS APP']\n",
      " ['index: 29'\n",
      "  \"In addition to the Biden administration's efforts to push new, more energy-efficient building codes nationwide, it has also issued a wide range of new regulations targeting gas-powered home appliances.\"]\n",
      " ['index: 30'\n",
      "  'For example, it has taken aim at gas water heaters, stoves and furnaces, which critics say will only lead to higher prices for consumers.']]\n"
     ]
    }
   ],
   "source": [
    "import nltk\n",
    "import numpy as np\n",
    "\n",
    "paragraphs = [p for p in cont.split('\\n') if p]\n",
    "\n",
    "data = []\n",
    "for par in paragraphs:\n",
    "    data += nltk.sent_tokenize(par)\n",
    "\n",
    "f_data = []\n",
    "\n",
    "for i in range(0,len(data)):\n",
    "    index = \"index: \" + str(i) \n",
    "    f_data += [(index, data[i])]\n",
    "\n",
    "formated_data = np.array2string(np.array(f_data))\n",
    "\n",
    "\n",
    "print(formated_data)"
   ]
  },
  {
   "cell_type": "code",
   "execution_count": 7,
   "id": "20c54449",
   "metadata": {},
   "outputs": [],
   "source": [
    "import openai\n",
    "from openai import OpenAI"
   ]
  },
  {
   "cell_type": "code",
   "execution_count": 8,
   "id": "81d834ce",
   "metadata": {},
   "outputs": [
    {
     "data": {
      "text/plain": [
       "'\"It\\'s a lot of money, and it\\'s clearly designed to push the Biden administration\\'s climate agenda onto state and local governments,\" Ben Lieberman, a senior fellow at the Competitive Enterprise Institute, told Fox News Digital in an interview.'"
      ]
     },
     "execution_count": 8,
     "metadata": {},
     "output_type": "execute_result"
    }
   ],
   "source": [
    "data[13]"
   ]
  },
  {
   "cell_type": "code",
   "execution_count": null,
   "id": "0a626463",
   "metadata": {},
   "outputs": [],
   "source": [
    "import os\n",
    "\n",
    "org = \"Personal\"\n",
    "key = os.environ['OPENAI_KEY']\n",
    "client = OpenAI(api_key = key)\n"
   ]
  },
  {
   "cell_type": "code",
   "execution_count": 28,
   "id": "d4bbd193",
   "metadata": {},
   "outputs": [],
   "source": [
    "completion = client.chat.completions.create(\n",
    "    model = \"ft:gpt-3.5-turbo-1106:personal::8jyHHxLe\",\n",
    "    messages = [\n",
    "        {\n",
    "            \"role\": \"system\", \n",
    "            \"content\": \"analyze partisan bias, and rank as light, moderate, or extreme, identify every framing bias in the article\"\n",
    "        },\n",
    "        {\n",
    "            \"role\": \"user\", \n",
    "            \"content\": cont\n",
    "        }],\n",
    ")"
   ]
  },
  {
   "cell_type": "code",
   "execution_count": 29,
   "id": "008dada7",
   "metadata": {},
   "outputs": [
    {
     "data": {
      "text/plain": [
       "ChatCompletion(id='chatcmpl-8YKlE50U8eUmpYgYgaUudvwn674wd', choices=[Choice(finish_reason='stop', index=0, logprobs=None, message=ChatCompletionMessage(content='Partisan Bias: The article does not display a clear partisan bias. It provides information on President Joe Biden\\'s impatience with the slow progress of his legislative accomplishments and attempts to analyze the challenges he faces in changing public opinion on his economic record.\\n\\nFraming Bias: The article contains a few instances of potential framing bias:\\n\\n1. Positive framing of Biden\\'s economic indicators: The article highlights the \"strong economic indicators\" under Biden\\'s administration, including slowing inflation, record-low unemployment, a robust labor market, improving consumer confidence, and a spike in housing starts. This framing presents a positive view of Biden\\'s economic record.\\n\\n2. Negative framing of public perception: The article emphasizes the \"stubborn pessimism about the economy\" among the public and the fact that \"most voters appear far from convinced\" of Biden\\'s economic accomplishments. This framing suggests that there is a disconnect between the positive economic indicators and public sentiment.\\n\\n3. Positive framing of Biden\\'s legislative accomplishments: The article mentions Biden\\'s signature legislative accomplishments, such as the bipartisan infrastructure law, investments in chip manufacturing, and climate and healthcare packages. It presents these as significant achievements and suggests that touting them successfully is key to convincing voters of the economy\\'s turnaround under Biden.\\n\\nOverall, the framing bias in the article leans more towards positive framing of Biden\\'s economic indicators and legislative accomplishments, while highlighting the challenge of changing public perception.', role='assistant', function_call=None, tool_calls=None))], created=1703193648, model='gpt-3.5-turbo-0613', object='chat.completion', system_fingerprint=None, usage=CompletionUsage(completion_tokens=279, prompt_tokens=1386, total_tokens=1665))"
      ]
     },
     "execution_count": 29,
     "metadata": {},
     "output_type": "execute_result"
    }
   ],
   "source": [
    "completion"
   ]
  },
  {
   "cell_type": "code",
   "execution_count": 7,
   "id": "bb5e6f2a",
   "metadata": {},
   "outputs": [],
   "source": [
    "l = ['House leftists include antisemitism in resolution condemning Islamophobia, \"anti-Palestinian discrimination\"',\n",
    " ' A group of House Democrats introduced a resolution this week that condemns antisemitism in addition to Islamophobia and \"anti-Palestinian discrimination.\"',\n",
    " 'It comes as the war between Israel and Hamas continues to fracture the Democratic Party, with hardline leftists labeling Israel the aggressor and calling on it to stop its retaliation on Gaza, while more establishment liberals maintain Israel is a critical ally that must be supported.',\n",
    " 'The bill, led by progressive Rep. Delia Ramirez, D-Ill., introduced the resolution to memorialize 6-year-old Wadee Alfayoumi, a Palestinian boy who was stabbed to death by his parents’ landlord in an alleged hate crime.',\n",
    " 'LIVE UPDATES: ISRAEL AT WAR WITH HAMAS',\n",
    " 'In addition to honoring him, the resolution text also included a provision saying the U.S. \"has zero tolerance for hate crimes, Islamophobia, antisemitism, and anti-Palestinian and anti-Arab discrimination.\"',\n",
    " 'And in what appears to be a veiled jab at leftists’ pro-Israel colleagues, the resolution also stated that \"it is the duty of elected officials and media to tell the truth without dehumanizing rhetoric when informing the public of factual information.\"',\n",
    " 'LATIN PATRIARCH SAYS PHOTOS SHOW BOMBED GAZA CONVENT AS WHITE HOUSE RAISES ‘CONCERNS’ WITH IDF',\n",
    " 'Israel has waged a ground invasion and air assault on Gaza after Hamas militants invaded the country on Oct. 7 and slaughtered over 1,200 people – mostly civilians in their homes – and took hundreds hostage.',\n",
    " 'Ramirez blamed the child’s death on \"rhetoric\" espoused against Palestinians in the wake of the attack.',\n",
    " '\"Hateful anti-Muslim and anti-Palestinian rhetoric has real consequences.',\n",
    " 'Just 30 minutes away from my district, Wadee Alfayoumi, a 6-year-old Palestinian-American child full of dreams, became victim to the rising Islamophobia and hateful rhetoric spewed about carelessly and recklessly since October 7,\" she said in a statement.',\n",
    " 'ISRAEL\\'S MILITARY ELIMINATES ‘PROMINENT HAMAS FINANCIER’ INVOLVED IN FUNNELING TENS OF MILLIONS OF DOLLARS',\n",
    " '\"The rise of hate crimes, anti-Palestinian racism, Islamophobia, and antisemitism puts all of us in grave danger,\" she added.',\n",
    " 'CLICK HERE TO GET THE FOX NEWS APP',\n",
    " 'The bill is co-sponsored by Reps. Lauren Underwood, D-Ill., Sara Jacobs, D-Calif., and Bonnie Watson Coleman, D-N.J.',\n",
    " 'All four Democrats voted against a bipartisan resolution condemning antisemitism on college campuses and calling for university presidents to be fired earlier this month.',\n",
    " 'That vote divided the left, with 84 Democrats voting in favor and 125 voting against.']"
   ]
  },
  {
   "cell_type": "code",
   "execution_count": 16,
   "id": "8a48b85c",
   "metadata": {},
   "outputs": [
    {
     "data": {
      "text/plain": [
       "'\"Hateful anti-Muslim and anti-Palestinian rhetoric has real consequences.'"
      ]
     },
     "execution_count": 16,
     "metadata": {},
     "output_type": "execute_result"
    }
   ],
   "source": [
    "l[10]"
   ]
  },
  {
   "cell_type": "code",
   "execution_count": null,
   "id": "0e6b235c",
   "metadata": {},
   "outputs": [],
   "source": []
  }
 ],
 "metadata": {
  "kernelspec": {
   "display_name": "Python 3 (ipykernel)",
   "language": "python",
   "name": "python3"
  },
  "language_info": {
   "codemirror_mode": {
    "name": "ipython",
    "version": 3
   },
   "file_extension": ".py",
   "mimetype": "text/x-python",
   "name": "python",
   "nbconvert_exporter": "python",
   "pygments_lexer": "ipython3",
   "version": "3.9.13"
  }
 },
 "nbformat": 4,
 "nbformat_minor": 5
}
