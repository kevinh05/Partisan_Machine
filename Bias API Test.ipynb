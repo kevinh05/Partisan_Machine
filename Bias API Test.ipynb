{
 "cells": [
  {
   "cell_type": "code",
   "execution_count": 2,
   "id": "7c2d8bcd",
   "metadata": {},
   "outputs": [],
   "source": [
    "from newspaper import Article"
   ]
  },
  {
   "cell_type": "code",
   "execution_count": 10,
   "id": "bbbbb9eb",
   "metadata": {},
   "outputs": [],
   "source": [
    "url = 'https://www.cnn.com/2024/02/06/politics/takeaways-donald-trump-immunity-appeals-court/index.html'\n",
    "article = Article(url)\n",
    "article.download()\n",
    "\n",
    "article.parse()"
   ]
  },
  {
   "cell_type": "code",
   "execution_count": 11,
   "id": "6c2f2d3e",
   "metadata": {},
   "outputs": [
    {
     "name": "stdout",
     "output_type": "stream",
     "text": [
      "Takeaways from the scathing appeals court ruling denying immunity to Donald Trump\n",
      " CNN —\n",
      "\n",
      "A federal appeals court said Tuesday that Donald Trump is not immune from prosecution for alleged crimes he committed during his presidency, flatly rejecting Trump’s arguments that he shouldn’t have to go on trial on federal election subversion charges.\n",
      "\n",
      "In a striking 57-page unanimous opinion, the panel of three DC Circuit judges wrote that that the justice system allowed for a former president to face charges for actions he took while in office, and that the public interest in holding a potentially criminal president accountable outweighed any potential “chilling effect” on the presidency.\n",
      "\n",
      "“We cannot accept that the office of the Presidency places its former occupants above the law for all time thereafter,” the opinion says.\n",
      "\n",
      "“Former President Trump lacked any lawful discretionary authority to defy federal criminal law and he is answerable in court for his conduct,” the judges added.\n",
      "\n",
      "Trump has pledged to appeal and has until Monday to ask the Supreme Court to temporarily block the ruling to delay his case again from heading to trial.\n",
      "\n",
      "It’s not certain how long the Supreme Court could take to consider such a request or an appeal, which would come as special counsel Jack Smith seeks to bring Trump to trial. An early March trial date has already been postponed.\n",
      "\n",
      "Here are the key takeaways from Tuesday’s decision:\n",
      "\n",
      "Presidents do not have ‘unbounded authority to commit crimes’\n",
      "\n",
      "Throughout their opinion, Judges Karen LeCraft Henderson, Florence Pan and J. Michelle Childs rejected all of Trump’s arguments of sweeping protections around the presidency.\n",
      "\n",
      "“It would be a striking paradox if the President, who alone is vested with the constitutional duty to ‘take Care that the Laws be faithfully executed,’ were the sole officer capable of defying those laws with impunity,” the appeals court wrote on Tuesday.\n",
      "\n",
      "Trump’s stances in court, the judges wrote, stand in contrast to the principle that all Americans – including former presidents – are subject to the same laws.\n",
      "\n",
      "Childs and Pan were appointed by President Joe Biden. Henderson was appointed by former President George H.W. Bush.\n",
      "\n",
      "Trump’s behavior after the 2020 election could be criminal\n",
      "\n",
      "The judges were clear that the charges against Trump are serious and left no question they believe they can be prosecuted. The panel repeatedly eviscerated Trump’s alleged behavior after the 2020 presidential election as unpresidential and constituting an assault on American institutions.\n",
      "\n",
      "“We cannot accept former President Trump’s claim that a President has unbounded authority to commit crimes that would neutralize the most fundamental check on executive power — the recognition and implementation of election results,” the judges wrote. “Nor can we sanction his apparent contention that the Executive has carte blanche to violate the rights of individual citizens to vote and to have their votes count.”\n",
      "\n",
      "The panel describes Trump as using his seat of power to “unlawfully overstay his term as President and to displace his duly elected successor,” all which would violate “generally applicable criminal laws.”\n",
      "\n",
      "“Former President Trump’s alleged efforts to remain in power despite losing the 2020 election were, if proven, an unprecedented assault on the structure of our government,” the panel wrote.\n",
      "\n",
      "“He allegedly injected himself into a process in which the President has no role — the counting and certifying of the Electoral College votes — thereby undermining constitutionally established procedures and the will of the Congress,” the judges added.\n",
      "\n",
      "At a basic level, the three judges wrote that the conduct alleged in Trump’s criminal indictment “conflicts” with his constitutional duties as president and “violated the constitutionally established design for determining the results of the Presidential election as well as the Electoral Count Act of 1887, neither of which establishes a role for the President in counting and certifying the Electoral College votes.”\n",
      "\n",
      "This part of the ruling was especially notable because the same court had avoided weighing in on Trump’s January 6 actions in appeals of lawsuits against him, and even the trial-level judge, Tanya Chutkan, hasn’t yet assessed the specific allegations against Trump.\n",
      "\n",
      "‘Vital public interest’ of letting trial proceed weighed heavily on the court\n",
      "\n",
      "Throughout the 57-page ruling, the judges repeatedly referred to the public interest of letting the Trump trial move forward.\n",
      "\n",
      "They cited the public interest in accountability for potential crimes committed by a former president, and how that overcame Trump’s argument that immunity was necessary to protect the institution of the presidency.\n",
      "\n",
      "“We conclude that the interest in criminal accountability, held by both the public and the Executive Branch, outweighs the potential risks of chilling Presidential action and permitting vexatious litigation,” the judges wrote in their opinion. “We have balanced former President Trump’s asserted interests in executive immunity against the vital public interests that favor allowing this prosecution to proceed.”\n",
      "\n",
      "The judges flatly rejected Trump’s claim that his criminal indictment would have a “chilling effect” on future administrations. Trump argues that presidents might be more hesitant to act if they were concerned about the prospect of criminal charges.\n",
      "\n",
      "The appeals court pointed to past presidents to refute Trump. The judges noted that Gerald Ford issued a full pardon to Richard Nixon after Nixon’s resignation, and that Bill Clinton cut a deal including paying a fine and temporarily giving up his law license to avoid possible criminal charges while an independent prosecutor investigated him.\n",
      "\n",
      "The panel went on to quote a Nixon-era Supreme Court ruling about the bounds of presidential immunity, saying, “The federal prosecution of a former President fits the case ‘[w]hen judicial action is needed to serve broad public interests’ in order to ‘vindicate the public interest in an ongoing criminal prosecution.’”\n",
      "\n",
      "These findings were consistent with the rationale provided by Chutkan, who similarly dismantled Trump’s immunity claims in resounding fashion last year.\n",
      "\n",
      "Impeachment acquittal does not absolve Trump\n",
      "\n",
      "The judges also rejected Trump’s argument that because the Senate did not convict him on the charge of inciting an insurrection in the wake of the Capitol riot in 2021, he cannot be charged criminally for the same crime.\n",
      "\n",
      "“Other courts have rejected this ‘tortured’ interpretation,” of the law, the judges wrote, adding that “former President Trump’s reliance on a negative implication is an immediate red flag.”\n",
      "\n",
      "Trump’s reading of the Constitution, the judges added, “would leave a President free to commit all manner of crimes with impunity, so long as he is not impeached and convicted.”\n",
      "\n",
      "During the impeachment trial in 2021, several Republican senators who voted to acquit Trump, including Senate GOP Leader Mitch McConnell, said they were doing so because the courts and justice system could still hold Trump accountable.\n",
      "\n",
      "In the decision, the judges also noted that impeachment proceedings are political in nature and acquittals in Congress “are often unrelated to factual innocence.”\n",
      "\n",
      "“The forty-three Senators who voted to acquit him relied on a variety of concerns, many of which had nothing to do with whether he committed the charged offense,” they wrote.\n",
      "\n",
      "Trial timing will be up to the Supreme Court\n",
      "\n",
      "A key part of Trump’s legal strategy has been to delay his criminal cases until after the 2024 election, and the four weeks between oral arguments at the appeals court and Tuesday’s ruling has already meant next month’s March 4﻿ trial date has been scrapped.\n",
      "\n",
      "Perhaps to speed things along, the appeals court established a six-day schedule for Trump to respond to Tuesday’s ruling, giving Trump until February 12 to file an emergency request with the Supreme Court to ask for the case to be put on hold to hear his appeal.\n",
      "\n",
      "That would stop the clock while his attorneys craft a more substantive appeal on the merits. The criminal trial would not resume until after the high court decides what to do with his request for a pause.\n",
      "\n",
      "The Supreme Court, however, can take as long as it likes at each step. The justices determine how long the Justice Department will have to respond to any Trump petition, how long Trump has to respond and controls when it would make any ruling.\n",
      "\n",
      "Trump’s team can also appeal to the full DC Circuit to take up the case again, but the appeals court on Tuesday said that would only pause his trial further if a majority of judges on the DC Circuit agreed to hear the case again, an unlikely scenario.\n",
      "\n",
      "If Trump does not appeal the ruling, the case would be sent back to the trial-level court in Washington, DC, as soon as next week, for pre-trial proceedings to resume.\n",
      "\n",
      "Describes the president as an ‘officer’\n",
      "\n",
      "One paragraph in Tuesday’s ruling has caught the attention of legal experts who are also watching the 14th Amendment “insurrectionist ban” case that is being argued at the Supreme Court on Thursday.\n",
      "\n",
      "The cases are entirely separate – this is a criminal prosecution against Trump, and the upcoming Supreme Court case is a civil attempt to remove Trump from state ballots. Further, the appeals court’s findings and explanations in Tuesday’s ruling are not binding on the Supreme Court.\n",
      "\n",
      "Nonetheless, the appeals ruling refers described the president as an “officer.” There is an open legal question – being argued Thursday before the Supreme Court – over whether the presidency is an “office… under the United States” and whether the president is an “officer,” as described in the insurrectionist ban.\n",
      "\n",
      "The appeals ruling said: “It would be a striking paradox if the President, who alone is vested with the constitutional duty to ‘take Care that the Laws be faithfully executed,’ were the sole officer capable of defying those laws with impunity.”\n"
     ]
    }
   ],
   "source": [
    "\n",
    "\n",
    "\n",
    "cont = article.title + \"\\n \" + article.text\n",
    "\n",
    "print(cont)\n"
   ]
  },
  {
   "cell_type": "code",
   "execution_count": 12,
   "id": "3c77868d",
   "metadata": {},
   "outputs": [
    {
     "name": "stdout",
     "output_type": "stream",
     "text": [
      "[['index: 0'\n",
      "  'Takeaways from the scathing appeals court ruling denying immunity to Donald Trump']\n",
      " ['index: 1' ' CNN —']\n",
      " ['index: 2'\n",
      "  'A federal appeals court said Tuesday that Donald Trump is not immune from prosecution for alleged crimes he committed during his presidency, flatly rejecting Trump’s arguments that he shouldn’t have to go on trial on federal election subversion charges.']\n",
      " ['index: 3'\n",
      "  'In a striking 57-page unanimous opinion, the panel of three DC Circuit judges wrote that that the justice system allowed for a former president to face charges for actions he took while in office, and that the public interest in holding a potentially criminal president accountable outweighed any potential “chilling effect” on the presidency.']\n",
      " ['index: 4'\n",
      "  '“We cannot accept that the office of the Presidency places its former occupants above the law for all time thereafter,” the opinion says.']\n",
      " ['index: 5'\n",
      "  '“Former President Trump lacked any lawful discretionary authority to defy federal criminal law and he is answerable in court for his conduct,” the judges added.']\n",
      " ['index: 6'\n",
      "  'Trump has pledged to appeal and has until Monday to ask the Supreme Court to temporarily block the ruling to delay his case again from heading to trial.']\n",
      " ['index: 7'\n",
      "  'It’s not certain how long the Supreme Court could take to consider such a request or an appeal, which would come as special counsel Jack Smith seeks to bring Trump to trial.']\n",
      " ['index: 8' 'An early March trial date has already been postponed.']\n",
      " ['index: 9' 'Here are the key takeaways from Tuesday’s decision:']\n",
      " ['index: 10'\n",
      "  'Presidents do not have ‘unbounded authority to commit crimes’']\n",
      " ['index: 11'\n",
      "  'Throughout their opinion, Judges Karen LeCraft Henderson, Florence Pan and J. Michelle Childs rejected all of Trump’s arguments of sweeping protections around the presidency.']\n",
      " ['index: 12'\n",
      "  '“It would be a striking paradox if the President, who alone is vested with the constitutional duty to ‘take Care that the Laws be faithfully executed,’ were the sole officer capable of defying those laws with impunity,” the appeals court wrote on Tuesday.']\n",
      " ['index: 13'\n",
      "  'Trump’s stances in court, the judges wrote, stand in contrast to the principle that all Americans – including former presidents – are subject to the same laws.']\n",
      " ['index: 14' 'Childs and Pan were appointed by President Joe Biden.']\n",
      " ['index: 15' 'Henderson was appointed by former President George H.W.']\n",
      " ['index: 16' 'Bush.']\n",
      " ['index: 17'\n",
      "  'Trump’s behavior after the 2020 election could be criminal']\n",
      " ['index: 18'\n",
      "  'The judges were clear that the charges against Trump are serious and left no question they believe they can be prosecuted.']\n",
      " ['index: 19'\n",
      "  'The panel repeatedly eviscerated Trump’s alleged behavior after the 2020 presidential election as unpresidential and constituting an assault on American institutions.']\n",
      " ['index: 20'\n",
      "  '“We cannot accept former President Trump’s claim that a President has unbounded authority to commit crimes that would neutralize the most fundamental check on executive power — the recognition and implementation of election results,” the judges wrote.']\n",
      " ['index: 21'\n",
      "  '“Nor can we sanction his apparent contention that the Executive has carte blanche to violate the rights of individual citizens to vote and to have their votes count.”']\n",
      " ['index: 22'\n",
      "  'The panel describes Trump as using his seat of power to “unlawfully overstay his term as President and to displace his duly elected successor,” all which would violate “generally applicable criminal laws.”']\n",
      " ['index: 23'\n",
      "  '“Former President Trump’s alleged efforts to remain in power despite losing the 2020 election were, if proven, an unprecedented assault on the structure of our government,” the panel wrote.']\n",
      " ['index: 24'\n",
      "  '“He allegedly injected himself into a process in which the President has no role — the counting and certifying of the Electoral College votes — thereby undermining constitutionally established procedures and the will of the Congress,” the judges added.']\n",
      " ['index: 25'\n",
      "  'At a basic level, the three judges wrote that the conduct alleged in Trump’s criminal indictment “conflicts” with his constitutional duties as president and “violated the constitutionally established design for determining the results of the Presidential election as well as the Electoral Count Act of 1887, neither of which establishes a role for the President in counting and certifying the Electoral College votes.”']\n",
      " ['index: 26'\n",
      "  'This part of the ruling was especially notable because the same court had avoided weighing in on Trump’s January 6 actions in appeals of lawsuits against him, and even the trial-level judge, Tanya Chutkan, hasn’t yet assessed the specific allegations against Trump.']\n",
      " ['index: 27'\n",
      "  '‘Vital public interest’ of letting trial proceed weighed heavily on the court']\n",
      " ['index: 28'\n",
      "  'Throughout the 57-page ruling, the judges repeatedly referred to the public interest of letting the Trump trial move forward.']\n",
      " ['index: 29'\n",
      "  'They cited the public interest in accountability for potential crimes committed by a former president, and how that overcame Trump’s argument that immunity was necessary to protect the institution of the presidency.']\n",
      " ['index: 30'\n",
      "  '“We conclude that the interest in criminal accountability, held by both the public and the Executive Branch, outweighs the potential risks of chilling Presidential action and permitting vexatious litigation,” the judges wrote in their opinion.']\n",
      " ['index: 31'\n",
      "  '“We have balanced former President Trump’s asserted interests in executive immunity against the vital public interests that favor allowing this prosecution to proceed.”']\n",
      " ['index: 32'\n",
      "  'The judges flatly rejected Trump’s claim that his criminal indictment would have a “chilling effect” on future administrations.']\n",
      " ['index: 33'\n",
      "  'Trump argues that presidents might be more hesitant to act if they were concerned about the prospect of criminal charges.']\n",
      " ['index: 34'\n",
      "  'The appeals court pointed to past presidents to refute Trump.']\n",
      " ['index: 35'\n",
      "  'The judges noted that Gerald Ford issued a full pardon to Richard Nixon after Nixon’s resignation, and that Bill Clinton cut a deal including paying a fine and temporarily giving up his law license to avoid possible criminal charges while an independent prosecutor investigated him.']\n",
      " ['index: 36'\n",
      "  'The panel went on to quote a Nixon-era Supreme Court ruling about the bounds of presidential immunity, saying, “The federal prosecution of a former President fits the case ‘[w]hen judicial action is needed to serve broad public interests’ in order to ‘vindicate the public interest in an ongoing criminal prosecution.’”']\n",
      " ['index: 37'\n",
      "  'These findings were consistent with the rationale provided by Chutkan, who similarly dismantled Trump’s immunity claims in resounding fashion last year.']\n",
      " ['index: 38' 'Impeachment acquittal does not absolve Trump']\n",
      " ['index: 39'\n",
      "  'The judges also rejected Trump’s argument that because the Senate did not convict him on the charge of inciting an insurrection in the wake of the Capitol riot in 2021, he cannot be charged criminally for the same crime.']\n",
      " ['index: 40'\n",
      "  '“Other courts have rejected this ‘tortured’ interpretation,” of the law, the judges wrote, adding that “former President Trump’s reliance on a negative implication is an immediate red flag.”']\n",
      " ['index: 41'\n",
      "  'Trump’s reading of the Constitution, the judges added, “would leave a President free to commit all manner of crimes with impunity, so long as he is not impeached and convicted.”']\n",
      " ['index: 42'\n",
      "  'During the impeachment trial in 2021, several Republican senators who voted to acquit Trump, including Senate GOP Leader Mitch McConnell, said they were doing so because the courts and justice system could still hold Trump accountable.']\n",
      " ['index: 43'\n",
      "  'In the decision, the judges also noted that impeachment proceedings are political in nature and acquittals in Congress “are often unrelated to factual innocence.”']\n",
      " ['index: 44'\n",
      "  '“The forty-three Senators who voted to acquit him relied on a variety of concerns, many of which had nothing to do with whether he committed the charged offense,” they wrote.']\n",
      " ['index: 45' 'Trial timing will be up to the Supreme Court']\n",
      " ['index: 46'\n",
      "  'A key part of Trump’s legal strategy has been to delay his criminal cases until after the 2024 election, and the four weeks between oral arguments at the appeals court and Tuesday’s ruling has already meant next month’s March 4\\ufeff trial date has been scrapped.']\n",
      " ['index: 47'\n",
      "  'Perhaps to speed things along, the appeals court established a six-day schedule for Trump to respond to Tuesday’s ruling, giving Trump until February 12 to file an emergency request with the Supreme Court to ask for the case to be put on hold to hear his appeal.']\n",
      " ['index: 48'\n",
      "  'That would stop the clock while his attorneys craft a more substantive appeal on the merits.']\n",
      " ['index: 49'\n",
      "  'The criminal trial would not resume until after the high court decides what to do with his request for a pause.']\n",
      " ['index: 50'\n",
      "  'The Supreme Court, however, can take as long as it likes at each step.']\n",
      " ['index: 51'\n",
      "  'The justices determine how long the Justice Department will have to respond to any Trump petition, how long Trump has to respond and controls when it would make any ruling.']\n",
      " ['index: 52'\n",
      "  'Trump’s team can also appeal to the full DC Circuit to take up the case again, but the appeals court on Tuesday said that would only pause his trial further if a majority of judges on the DC Circuit agreed to hear the case again, an unlikely scenario.']\n",
      " ['index: 53'\n",
      "  'If Trump does not appeal the ruling, the case would be sent back to the trial-level court in Washington, DC, as soon as next week, for pre-trial proceedings to resume.']\n",
      " ['index: 54' 'Describes the president as an ‘officer’']\n",
      " ['index: 55'\n",
      "  'One paragraph in Tuesday’s ruling has caught the attention of legal experts who are also watching the 14th Amendment “insurrectionist ban” case that is being argued at the Supreme Court on Thursday.']\n",
      " ['index: 56'\n",
      "  'The cases are entirely separate – this is a criminal prosecution against Trump, and the upcoming Supreme Court case is a civil attempt to remove Trump from state ballots.']\n",
      " ['index: 57'\n",
      "  'Further, the appeals court’s findings and explanations in Tuesday’s ruling are not binding on the Supreme Court.']\n",
      " ['index: 58'\n",
      "  'Nonetheless, the appeals ruling refers described the president as an “officer.” There is an open legal question – being argued Thursday before the Supreme Court – over whether the presidency is an “office… under the United States” and whether the president is an “officer,” as described in the insurrectionist ban.']\n",
      " ['index: 59'\n",
      "  'The appeals ruling said: “It would be a striking paradox if the President, who alone is vested with the constitutional duty to ‘take Care that the Laws be faithfully executed,’ were the sole officer capable of defying those laws with impunity.”']]\n"
     ]
    }
   ],
   "source": [
    "import nltk\n",
    "import numpy as np\n",
    "\n",
    "paragraphs = [p for p in cont.split('\\n') if p]\n",
    "\n",
    "data = []\n",
    "for par in paragraphs:\n",
    "    data += nltk.sent_tokenize(par)\n",
    "\n",
    "f_data = []\n",
    "\n",
    "for i in range(0,len(data)):\n",
    "    index = \"index: \" + str(i) \n",
    "    f_data += [(index, data[i])]\n",
    "\n",
    "formated_data = np.array2string(np.array(f_data))\n",
    "\n",
    "\n",
    "print(formated_data)"
   ]
  },
  {
   "cell_type": "code",
   "execution_count": 13,
   "id": "20c54449",
   "metadata": {},
   "outputs": [],
   "source": [
    "import openai\n",
    "from openai import OpenAI"
   ]
  },
  {
   "cell_type": "code",
   "execution_count": 14,
   "id": "81d834ce",
   "metadata": {},
   "outputs": [
    {
     "data": {
      "text/plain": [
       "'Trump’s stances in court, the judges wrote, stand in contrast to the principle that all Americans – including former presidents – are subject to the same laws.'"
      ]
     },
     "execution_count": 14,
     "metadata": {},
     "output_type": "execute_result"
    }
   ],
   "source": [
    "data[13]"
   ]
  },
  {
   "cell_type": "code",
   "execution_count": null,
   "id": "0a626463",
   "metadata": {},
   "outputs": [],
   "source": [
    "import os\n",
    "org = \"Personal\"\n",
    "key = os.environ['OPENAI_KEY']\n",
    "client = OpenAI(api_key = key)\n"
   ]
  },
  {
   "cell_type": "code",
   "execution_count": 19,
   "id": "d4bbd193",
   "metadata": {},
   "outputs": [],
   "source": [
    "completion = client.chat.completions.create(\n",
    "    model = \"ft:gpt-3.5-turbo-1106:personal::8jyHHxLe\",\n",
    "    messages = [\n",
    "        {\n",
    "            \"role\": \"system\", \n",
    "            \"content\": \"identify partisan bias in the article\"\n",
    "        },\n",
    "        {\n",
    "            \"role\": \"user\", \n",
    "            \"content\": formated_data\n",
    "        }],\n",
    ")"
   ]
  },
  {
   "cell_type": "code",
   "execution_count": 20,
   "id": "008dada7",
   "metadata": {},
   "outputs": [
    {
     "data": {
      "text/plain": [
       "ChatCompletion(id='chatcmpl-8pO95KyV6ANLFOTuS8fogPhE0FqKw', choices=[Choice(finish_reason='stop', index=0, logprobs=None, message=ChatCompletionMessage(content='\\nThe provided article, titled \"Takeaways from the scathing appeals court ruling denying immunity to Donald Trump,\" exhibits a moderate partisan bias against Donald Trump. The language used in the article, particularly the choice of adjectives like \"scathing\" and the emphasis on the court\\'s rejection of Trump\\'s arguments, contributes to a moderately negative tone.\\n\\nAdditionally, the article highlights key quotes from the appeals court judges that portray Trump\\'s behavior in a negative light, emphasizing the seriousness of the charges against him and the public interest in holding him accountable. The inclusion of details about the judges\\' appointments, noting that Childs and Pan were appointed by President Joe Biden, may also contribute to a perceived bias.\\n\\nThe article\\'s focus on Trump\\'s legal strategy to delay the criminal cases and the implications of the appeals court ruling, along with the mention of the impeachment acquittal not absolving Trump, adds to the overall negative portrayal of Trump\\'s legal situation.\\n\\nIt\\'s important to note that while the article exhibits a moderate partisan bias, it provides detailed information about the appeals court ruling and the key takeaways from the decision. Readers should be aware of the potential bias and may benefit from consulting multiple sources to form a well-rounded understanding of the topic.', role='assistant', function_call=None, tool_calls=None))], created=1707258235, model='ft:gpt-3.5-turbo-1106:personal::8jyHHxLe', object='chat.completion', system_fingerprint='fp_2dae0bfd7e', usage=CompletionUsage(completion_tokens=246, prompt_tokens=2443, total_tokens=2689))"
      ]
     },
     "execution_count": 20,
     "metadata": {},
     "output_type": "execute_result"
    }
   ],
   "source": [
    "completion"
   ]
  },
  {
   "cell_type": "code",
   "execution_count": 7,
   "id": "bb5e6f2a",
   "metadata": {},
   "outputs": [],
   "source": [
    "l = ['House leftists include antisemitism in resolution condemning Islamophobia, \"anti-Palestinian discrimination\"',\n",
    " ' A group of House Democrats introduced a resolution this week that condemns antisemitism in addition to Islamophobia and \"anti-Palestinian discrimination.\"',\n",
    " 'It comes as the war between Israel and Hamas continues to fracture the Democratic Party, with hardline leftists labeling Israel the aggressor and calling on it to stop its retaliation on Gaza, while more establishment liberals maintain Israel is a critical ally that must be supported.',\n",
    " 'The bill, led by progressive Rep. Delia Ramirez, D-Ill., introduced the resolution to memorialize 6-year-old Wadee Alfayoumi, a Palestinian boy who was stabbed to death by his parents’ landlord in an alleged hate crime.',\n",
    " 'LIVE UPDATES: ISRAEL AT WAR WITH HAMAS',\n",
    " 'In addition to honoring him, the resolution text also included a provision saying the U.S. \"has zero tolerance for hate crimes, Islamophobia, antisemitism, and anti-Palestinian and anti-Arab discrimination.\"',\n",
    " 'And in what appears to be a veiled jab at leftists’ pro-Israel colleagues, the resolution also stated that \"it is the duty of elected officials and media to tell the truth without dehumanizing rhetoric when informing the public of factual information.\"',\n",
    " 'LATIN PATRIARCH SAYS PHOTOS SHOW BOMBED GAZA CONVENT AS WHITE HOUSE RAISES ‘CONCERNS’ WITH IDF',\n",
    " 'Israel has waged a ground invasion and air assault on Gaza after Hamas militants invaded the country on Oct. 7 and slaughtered over 1,200 people – mostly civilians in their homes – and took hundreds hostage.',\n",
    " 'Ramirez blamed the child’s death on \"rhetoric\" espoused against Palestinians in the wake of the attack.',\n",
    " '\"Hateful anti-Muslim and anti-Palestinian rhetoric has real consequences.',\n",
    " 'Just 30 minutes away from my district, Wadee Alfayoumi, a 6-year-old Palestinian-American child full of dreams, became victim to the rising Islamophobia and hateful rhetoric spewed about carelessly and recklessly since October 7,\" she said in a statement.',\n",
    " 'ISRAEL\\'S MILITARY ELIMINATES ‘PROMINENT HAMAS FINANCIER’ INVOLVED IN FUNNELING TENS OF MILLIONS OF DOLLARS',\n",
    " '\"The rise of hate crimes, anti-Palestinian racism, Islamophobia, and antisemitism puts all of us in grave danger,\" she added.',\n",
    " 'CLICK HERE TO GET THE FOX NEWS APP',\n",
    " 'The bill is co-sponsored by Reps. Lauren Underwood, D-Ill., Sara Jacobs, D-Calif., and Bonnie Watson Coleman, D-N.J.',\n",
    " 'All four Democrats voted against a bipartisan resolution condemning antisemitism on college campuses and calling for university presidents to be fired earlier this month.',\n",
    " 'That vote divided the left, with 84 Democrats voting in favor and 125 voting against.']"
   ]
  },
  {
   "cell_type": "code",
   "execution_count": 16,
   "id": "8a48b85c",
   "metadata": {},
   "outputs": [
    {
     "data": {
      "text/plain": [
       "'\"Hateful anti-Muslim and anti-Palestinian rhetoric has real consequences.'"
      ]
     },
     "execution_count": 16,
     "metadata": {},
     "output_type": "execute_result"
    }
   ],
   "source": [
    "l[10]"
   ]
  },
  {
   "cell_type": "code",
   "execution_count": null,
   "id": "0e6b235c",
   "metadata": {},
   "outputs": [],
   "source": []
  }
 ],
 "metadata": {
  "kernelspec": {
   "display_name": "Python 3 (ipykernel)",
   "language": "python",
   "name": "python3"
  },
  "language_info": {
   "codemirror_mode": {
    "name": "ipython",
    "version": 3
   },
   "file_extension": ".py",
   "mimetype": "text/x-python",
   "name": "python",
   "nbconvert_exporter": "python",
   "pygments_lexer": "ipython3",
   "version": "3.9.13"
  }
 },
 "nbformat": 4,
 "nbformat_minor": 5
}
